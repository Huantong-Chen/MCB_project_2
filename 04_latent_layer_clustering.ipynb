{
 "cells": [
  {
   "cell_type": "code",
   "execution_count": 2,
   "id": "e51c394c",
   "metadata": {},
   "outputs": [],
   "source": [
    "import hdbscan\n",
    "import numpy as np\n",
    "import matplotlib.pyplot as plt\n",
    "import pandas as pd\n",
    "import seaborn as sns"
   ]
  },
  {
   "cell_type": "code",
   "execution_count": 3,
   "id": "8ef03932",
   "metadata": {},
   "outputs": [
    {
     "name": "stdout",
     "output_type": "stream",
     "text": [
      "loss        46069\n",
      "val_loss    31537\n",
      "dtype: int64\n",
      "min loss epoch set:  77\n",
      "min val_loss epoch set:  5\n"
     ]
    },
    {
     "data": {
      "image/png": "[encoded data removed]",
      "text/plain": [
       "<Figure size 432x288 with 1 Axes>"
      ]
     },
     "metadata": {
      "needs_background": "light"
     },
     "output_type": "display_data"
    }
   ],
   "source": [
    "# find the model with lowest loss\n",
    "\n",
    "# plot the losses from training history\n",
    "training_history_0 = pd.read_pickle(\"history_0\")\n",
    "\n",
    "for rounds in range (1, 100):\n",
    "    training_history_1 = pd.read_pickle(\"history_\" + str(rounds))\n",
    "    frames = [training_history_0, training_history_1]\n",
    "    training_history_0 = pd.concat (frames, axis=0, ignore_index=True)\n",
    "\n",
    "plt.plot (training_history_0)\n",
    "#plt.savefig(\"cutoff0.002_training_history.png\", dpi=300)\n",
    "\n",
    "print (training_history_0.idxmin())\n",
    "\n",
    "# determine epoch set with lowest loss\n",
    "training_history_0 = pd.read_pickle(\"history_0\")\n",
    "loss = training_history_0[[\"loss\"]]\n",
    "meanloss0 = loss.mean()\n",
    "\n",
    "for rounds in range (1, 100):\n",
    "    training_history_1 = pd.read_pickle(\"history_\" + str(rounds))\n",
    "    loss = training_history_1[[\"loss\"]]\n",
    "    meanloss1 = loss.mean()\n",
    "    frames = [meanloss0, meanloss1]\n",
    "    meanloss0 = pd.concat (frames, axis=0, ignore_index=True)\n",
    "\n",
    "print (\"min loss epoch set: \", meanloss0.idxmin())\n",
    "\n",
    "training_history_0 = pd.read_pickle(\"history_0\")\n",
    "val_loss = training_history_0[[\"val_loss\"]]\n",
    "meanloss0 = val_loss.mean()\n",
    "\n",
    "for rounds in range (1, 100):\n",
    "    training_history_1 = pd.read_pickle(\"history_\" + str(rounds))\n",
    "    val_loss = training_history_1[[\"val_loss\"]]\n",
    "    meanloss1 = val_loss.mean()\n",
    "    frames = [meanloss0, meanloss1]\n",
    "    meanloss0 = pd.concat (frames, axis=0, ignore_index=True)\n",
    "\n",
    "print (\"min val_loss epoch set: \", meanloss0.idxmin())"
   ]
  },
  {
   "cell_type": "code",
   "execution_count": 4,
   "id": "a442aef2",
   "metadata": {},
   "outputs": [
    {
     "name": "stderr",
     "output_type": "stream",
     "text": [
      "2022-08-15 03:21:13.401783: W tensorflow/stream_executor/platform/default/dso_loader.cc:64] Could not load dynamic library 'libcudart.so.11.0'; dlerror: libcudart.so.11.0: cannot open shared object file: No such file or directory\n",
      "2022-08-15 03:21:13.401815: I tensorflow/stream_executor/cuda/cudart_stub.cc:29] Ignore above cudart dlerror if you do not have a GPU set up on your machine.\n"
     ]
    }
   ],
   "source": [
    "import os\n",
    "import tensorflow as tf\n",
    "from tensorflow.python.keras.layers import Input, Dense\n",
    "from tensorflow.python.keras.layers import LeakyReLU"
   ]
  },
  {
   "cell_type": "code",
   "execution_count": 5,
   "id": "874ef779",
   "metadata": {},
   "outputs": [
    {
     "name": "stdout",
     "output_type": "stream",
     "text": [
      "Epoch set No:99\n",
      "WARNING:tensorflow:SavedModel saved prior to TF 2.5 detected when loading Keras model. Please ensure that you are saving the model with model.save() or tf.keras.models.save_model(), *NOT* tf.saved_model.save(). To confirm, there should be a file named \"keras_metadata.pb\" in the SavedModel directory.\n"
     ]
    },
    {
     "name": "stderr",
     "output_type": "stream",
     "text": [
      "2022-08-15 03:21:35.315979: W tensorflow/stream_executor/platform/default/dso_loader.cc:64] Could not load dynamic library 'libcuda.so.1'; dlerror: libcuda.so.1: cannot open shared object file: No such file or directory\n",
      "2022-08-15 03:21:35.316031: W tensorflow/stream_executor/cuda/cuda_driver.cc:269] failed call to cuInit: UNKNOWN ERROR (303)\n",
      "2022-08-15 03:21:35.316062: I tensorflow/stream_executor/cuda/cuda_diagnostics.cc:156] kernel driver does not appear to be running on this host (huantong-VirtualBox): /proc/driver/nvidia/version does not exist\n",
      "2022-08-15 03:21:35.317815: I tensorflow/core/platform/cpu_feature_guard.cc:151] This TensorFlow binary is optimized with oneAPI Deep Neural Network Library (oneDNN) to use the following CPU instructions in performance-critical operations:  AVX2\n",
      "To enable them in other operations, rebuild TensorFlow with the appropriate compiler flags.\n"
     ]
    }
   ],
   "source": [
    "# load saved model\n",
    "\n",
    "from tensorflow import keras\n",
    "epset = input('Epoch set No:')\n",
    "autoencoder = keras.models.load_model('models/saved_model_'+ str(epset))"
   ]
  },
  {
   "cell_type": "code",
   "execution_count": 6,
   "id": "1042aeb8",
   "metadata": {},
   "outputs": [],
   "source": [
    "def unison_shuffled_copies(a, b):\n",
    "    # https://stackoverflow.com/questions/4601373/better-way-to-shuffle-two-numpy-arrays-in-unison\n",
    "    # mix two arrays randomly in parallel\n",
    "    assert len(a) == len(b)\n",
    "    p = np.random.permutation(len(a))\n",
    "    return a[p], b[p]"
   ]
  },
  {
   "cell_type": "code",
   "execution_count": 7,
   "id": "36c5ef96",
   "metadata": {},
   "outputs": [
    {
     "name": "stdout",
     "output_type": "stream",
     "text": [
      "Wildtype Training Data Shape: (40000, 191)\n",
      "Wildtype Label Data Shape:    (40000,)\n",
      "D132-H   Training Data Shape: (40000, 191)\n",
      "D132-H   Label Data Shape:    (40000,)\n"
     ]
    }
   ],
   "source": [
    "# load original datasets\n",
    "\n",
    "wildtype_data = np.loadtxt (\"thresh0.001_enriched_2-20aa_angle_result.txt\") # read in wildtype lcc data\n",
    "#wildtype_data = wildtype_data [:,1:] # delete first column which is frame number\n",
    "wildtype_label = np.zeros(len(wildtype_data)) # set wildtype labels to 0 \n",
    "\n",
    "mutant_1_data = np.loadtxt (\"thresh0.001_enriched_2-20aa_angle_result_D132H.txt\") # read in mutant lcc data\n",
    "#mutant_1_data = mutant_1_data [:,1:] # delete first column which is frame number\n",
    "mutant_1_label = np.ones(len(mutant_1_data)) # set mutant labels to 1\n",
    "\n",
    "print('Wildtype Training Data Shape:', wildtype_data.shape)\n",
    "print('Wildtype Label Data Shape:   ', wildtype_label.shape)\n",
    "print('D132-H   Training Data Shape:', mutant_1_data.shape)\n",
    "print('D132-H   Label Data Shape:   ', mutant_1_label.shape)"
   ]
  },
  {
   "cell_type": "code",
   "execution_count": 8,
   "id": "77d0fba2",
   "metadata": {},
   "outputs": [
    {
     "name": "stdout",
     "output_type": "stream",
     "text": [
      "Combined input_data.shape: (80000, 191)\n",
      "Combined label_data.shape: (80000,) \n",
      "\n"
     ]
    }
   ],
   "source": [
    "# generate combined and shuffled input data file\n",
    "lcc_data = np.vstack((wildtype_data, mutant_1_data))\n",
    "print (\"Combined input_data.shape:\", lcc_data.shape)\n",
    "\n",
    "label_data = np.hstack((wildtype_label, mutant_1_label))\n",
    "print (\"Combined label_data.shape:\", label_data.shape, \"\\n\")\n",
    "\n",
    "# here we shuffle both tensors simultaneously to maintain the labels with each data set\n",
    "lcc_data, label_data = unison_shuffled_copies (lcc_data, label_data)\n",
    "\n",
    "# normalize data\n",
    "lcc_data = lcc_data/180"
   ]
  },
  {
   "cell_type": "code",
   "execution_count": null,
   "id": "3df8f5ac",
   "metadata": {},
   "outputs": [
    {
     "name": "stdout",
     "output_type": "stream",
     "text": [
      "Model: \"model\"\n",
      "_________________________________________________________________\n",
      " Layer (type)                Output Shape              Param #   \n",
      "=================================================================\n",
      " input_1 (InputLayer)        [(None, 191)]             0         \n",
      "                                                                 \n",
      " e1 (Dense)                  (None, 256)               49152     \n",
      "                                                                 \n",
      " e2 (Dense)                  (None, 64)                16448     \n",
      "                                                                 \n",
      " ae_latent (Dense)           (None, 2)                 130       \n",
      "                                                                 \n",
      "=================================================================\n",
      "Total params: 65,730\n",
      "Trainable params: 65,730\n",
      "Non-trainable params: 0\n",
      "_________________________________________________________________\n"
     ]
    }
   ],
   "source": [
    "# project original dataset into trained model\n",
    "\n",
    "# read in latent layer\n",
    "dr_model = tf.keras.models.Model(inputs  = autoencoder.get_layer('e1').input, \n",
    "                                 outputs = autoencoder.get_layer('ae_latent').output)\n",
    "dr_model.summary()\n",
    "\n",
    "# put original dataset into latent model and save\n",
    "x = []\n",
    "y = []\n",
    "z = []\n",
    "for i in range(80000):\n",
    "    z.append(label_data[i])\n",
    "    op = dr_model.predict(np.array([lcc_data[i]]))\n",
    "    x.append(op[0][0])\n",
    "    y.append(op[0][1])\n",
    "    #print(i)\n",
    "\n",
    "df = pd.DataFrame()\n",
    "df['x'] = x\n",
    "df['y'] = y\n",
    "df['z'] = [\"trajectory-\" + str(k) for k in z]\n",
    "\n",
    "file_name = 'cutoff0.001_latent_epochset_' + str(epset)\n",
    "df.to_pickle(file_name)\n",
    "print('saved')"
   ]
  },
  {
   "cell_type": "code",
   "execution_count": 28,
   "id": "9a2055a7",
   "metadata": {},
   "outputs": [
    {
     "data": {
      "text/plain": [
       "0     0.014717\n",
       "1     0.014085\n",
       "2     0.014010\n",
       "3     0.013992\n",
       "4     0.013980\n",
       "        ...   \n",
       "95    0.013953\n",
       "96    0.013960\n",
       "97    0.013960\n",
       "98    0.013959\n",
       "99    0.013955\n",
       "Length: 100, dtype: float64"
      ]
     },
     "execution_count": 28,
     "metadata": {},
     "output_type": "execute_result"
    }
   ],
   "source": [
    "# plot the latent data projection\n",
    "\n",
    "plt.figure(figsize = (8, 6));\n",
    "fig = sns.scatterplot(x = 'x', y='y', hue='z', data=df, s=1)\n",
    "file_name = \"cutoff0.001_latent_epochset_\" + str(epset) + \".png\"\n",
    "fig.figure.savefig(file_name, dpi = 300)\n",
    "#plt.clf()\n",
    "plt.show()"
   ]
  },
  {
   "cell_type": "code",
   "execution_count": null,
   "id": "725fd813",
   "metadata": {},
   "outputs": [],
   "source": [
    "# hdbscan clustering\n",
    "\n",
    "latent_df = pd.read_pickle('cutoff0.002_latent_epochset_14')\n",
    "latent_df = latent_df.replace({'trajectory-0.0': 0, 'trajectory-1.0': 1})\n",
    "latent_df = latent_df.drop('z', axis = 1)\n",
    "\n",
    "clusterer = hdbscan.HDBSCAN(min_cluster_size=100).fit(latent_df)\n",
    "color_palette = sns.color_palette('deep', 100)\n",
    "cluster_colors = [color_palette[x] if x >= 0\n",
    "                  else (0.5, 0.5, 0.5)\n",
    "                  for x in clusterer.labels_]\n",
    "cluster_member_colors = [sns.desaturate(x, p) for x, p in\n",
    "                         zip(cluster_colors, clusterer.probabilities_)]\n",
    "#cluster_member_sizes = np.ones(len(cluster_member_colors))\n",
    "#plt.scatter(*latent_df.T, s=cluster_member_sizes, c=cluster_member_colors, alpha=0.25, linewidth=0)\n",
    "\n",
    "fig = sns.scatterplot(x = 'x', y='y', data=latent_df, s=1, c=cluster_member_colors)\n",
    "file_name = \"cutoff0.002_latent_epochset_\" + str(epset) + \"_clustered.png\"\n",
    "fig.figure.savefig(file_name, dpi = 300)\n",
    "plt.show()"
   ]
  },
  {
   "cell_type": "code",
   "execution_count": null,
   "id": "fe330806",
   "metadata": {},
   "outputs": [],
   "source": [
    "clusterer.labels_.max()"
   ]
  }
 ],
 "metadata": {
  "kernelspec": {
   "display_name": "Python 3 (ipykernel)",
   "language": "python",
   "name": "python3"
  },
  "language_info": {
   "codemirror_mode": {
    "name": "ipython",
    "version": 3
   },
   "file_extension": ".py",
   "mimetype": "text/x-python",
   "name": "python",
   "nbconvert_exporter": "python",
   "pygments_lexer": "ipython3",
   "version": "3.9.7"
  }
 },
 "nbformat": 4,
 "nbformat_minor": 5
}
